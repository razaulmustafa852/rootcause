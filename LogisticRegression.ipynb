{
 "cells": [
  {
   "cell_type": "code",
   "execution_count": 134,
   "metadata": {},
   "outputs": [],
   "source": [
    "import pandas as pd\n",
    "import numpy as np\n",
    "from sklearn import preprocessing\n",
    "import matplotlib.pyplot as plt \n",
    "plt.rc(\"font\", size=14)\n",
    "from sklearn.linear_model import LogisticRegression\n",
    "from sklearn.model_selection import train_test_split\n",
    "import seaborn as sns\n",
    "sns.set(style=\"white\")\n",
    "sns.set(style=\"whitegrid\", color_codes=True)\n",
    "from imblearn.over_sampling import SMOTE"
   ]
  },
  {
   "cell_type": "code",
   "execution_count": 135,
   "metadata": {},
   "outputs": [],
   "source": [
    "df = pd.read_csv(\"TESTROOT.csv\")"
   ]
  },
  {
   "cell_type": "code",
   "execution_count": 136,
   "metadata": {},
   "outputs": [],
   "source": [
    "df.dropna(inplace=True)"
   ]
  },
  {
   "cell_type": "code",
   "execution_count": 137,
   "metadata": {},
   "outputs": [],
   "source": [
    "df =df[(df['interface']=='s1-eth1') | (df['interface']=='s2-eth1')]"
   ]
  },
  {
   "cell_type": "code",
   "execution_count": 138,
   "metadata": {},
   "outputs": [
    {
     "data": {
      "text/plain": [
       "96"
      ]
     },
     "execution_count": 138,
     "metadata": {},
     "output_type": "execute_result"
    }
   ],
   "source": [
    "df.shape[0]"
   ]
  },
  {
   "cell_type": "code",
   "execution_count": 139,
   "metadata": {},
   "outputs": [],
   "source": [
    "#df.to_csv('LR.csv')"
   ]
  },
  {
   "cell_type": "code",
   "execution_count": 140,
   "metadata": {},
   "outputs": [
    {
     "data": {
      "text/plain": [
       "1.0    48\n",
       "0.0    48\n",
       "Name: target, dtype: int64"
      ]
     },
     "execution_count": 140,
     "metadata": {},
     "output_type": "execute_result"
    }
   ],
   "source": [
    "df['target'].value_counts()"
   ]
  },
  {
   "cell_type": "code",
   "execution_count": 141,
   "metadata": {},
   "outputs": [
    {
     "data": {
      "text/plain": [
       "Index(['exp', 'user_no', 'algo', 'interface', 'rtt_qos', 'tp_qos', 'p_qos',\n",
       "       '10P_RTT', '20P_RTT', '30P_RTT', '40P_RTT', '50P_RTT', '60P_RTT',\n",
       "       '70P_RTT', '80P_RTT', '90P_RTT', '10P_TP', '20P_TP', '30P_TP', '40P_TP',\n",
       "       '50P_TP', '60P_TP', '70P_TP', '80P_TP', '90P_TP', '10P_PK', '20P_PK',\n",
       "       '30P_PK', '40P_PK', '50P_PK', '60P_PK', '70P_PK', '80P_PK', '90P_PK',\n",
       "       'stall', 'P1203', 'target', 'total_hosts'],\n",
       "      dtype='object')"
      ]
     },
     "execution_count": 141,
     "metadata": {},
     "output_type": "execute_result"
    }
   ],
   "source": [
    "df.columns"
   ]
  },
  {
   "cell_type": "code",
   "execution_count": 142,
   "metadata": {},
   "outputs": [],
   "source": [
    "X= df.iloc[:, 4:34]"
   ]
  },
  {
   "cell_type": "code",
   "execution_count": 143,
   "metadata": {},
   "outputs": [
    {
     "data": {
      "text/html": [
       "<div>\n",
       "<style scoped>\n",
       "    .dataframe tbody tr th:only-of-type {\n",
       "        vertical-align: middle;\n",
       "    }\n",
       "\n",
       "    .dataframe tbody tr th {\n",
       "        vertical-align: top;\n",
       "    }\n",
       "\n",
       "    .dataframe thead th {\n",
       "        text-align: right;\n",
       "    }\n",
       "</style>\n",
       "<table border=\"1\" class=\"dataframe\">\n",
       "  <thead>\n",
       "    <tr style=\"text-align: right;\">\n",
       "      <th></th>\n",
       "      <th>rtt_qos</th>\n",
       "      <th>tp_qos</th>\n",
       "      <th>p_qos</th>\n",
       "      <th>10P_RTT</th>\n",
       "      <th>20P_RTT</th>\n",
       "      <th>30P_RTT</th>\n",
       "      <th>40P_RTT</th>\n",
       "      <th>50P_RTT</th>\n",
       "      <th>60P_RTT</th>\n",
       "      <th>70P_RTT</th>\n",
       "      <th>...</th>\n",
       "      <th>90P_TP</th>\n",
       "      <th>10P_PK</th>\n",
       "      <th>20P_PK</th>\n",
       "      <th>30P_PK</th>\n",
       "      <th>40P_PK</th>\n",
       "      <th>50P_PK</th>\n",
       "      <th>60P_PK</th>\n",
       "      <th>70P_PK</th>\n",
       "      <th>80P_PK</th>\n",
       "      <th>90P_PK</th>\n",
       "    </tr>\n",
       "  </thead>\n",
       "  <tbody>\n",
       "    <tr>\n",
       "      <th>96</th>\n",
       "      <td>72.9915</td>\n",
       "      <td>423258.19810</td>\n",
       "      <td>24.0</td>\n",
       "      <td>21.7295</td>\n",
       "      <td>32.752</td>\n",
       "      <td>38.9385</td>\n",
       "      <td>42.1720</td>\n",
       "      <td>53.686</td>\n",
       "      <td>68.5410</td>\n",
       "      <td>92.8345</td>\n",
       "      <td>...</td>\n",
       "      <td>265550.5591</td>\n",
       "      <td>16.5</td>\n",
       "      <td>11.0</td>\n",
       "      <td>119.5</td>\n",
       "      <td>25.0</td>\n",
       "      <td>28.5</td>\n",
       "      <td>33.5</td>\n",
       "      <td>40.5</td>\n",
       "      <td>43.0</td>\n",
       "      <td>49.5</td>\n",
       "    </tr>\n",
       "    <tr>\n",
       "      <th>97</th>\n",
       "      <td>94.4464</td>\n",
       "      <td>69734.41816</td>\n",
       "      <td>28.2</td>\n",
       "      <td>21.7295</td>\n",
       "      <td>32.752</td>\n",
       "      <td>38.9385</td>\n",
       "      <td>42.1720</td>\n",
       "      <td>53.686</td>\n",
       "      <td>68.5410</td>\n",
       "      <td>92.8345</td>\n",
       "      <td>...</td>\n",
       "      <td>265550.5591</td>\n",
       "      <td>16.5</td>\n",
       "      <td>11.0</td>\n",
       "      <td>119.5</td>\n",
       "      <td>25.0</td>\n",
       "      <td>28.5</td>\n",
       "      <td>33.5</td>\n",
       "      <td>40.5</td>\n",
       "      <td>43.0</td>\n",
       "      <td>49.5</td>\n",
       "    </tr>\n",
       "    <tr>\n",
       "      <th>98</th>\n",
       "      <td>101.7731</td>\n",
       "      <td>68586.85469</td>\n",
       "      <td>41.2</td>\n",
       "      <td>21.7295</td>\n",
       "      <td>32.752</td>\n",
       "      <td>38.9385</td>\n",
       "      <td>42.1720</td>\n",
       "      <td>53.686</td>\n",
       "      <td>68.5410</td>\n",
       "      <td>92.8345</td>\n",
       "      <td>...</td>\n",
       "      <td>265550.5591</td>\n",
       "      <td>16.5</td>\n",
       "      <td>11.0</td>\n",
       "      <td>119.5</td>\n",
       "      <td>25.0</td>\n",
       "      <td>28.5</td>\n",
       "      <td>33.5</td>\n",
       "      <td>40.5</td>\n",
       "      <td>43.0</td>\n",
       "      <td>49.5</td>\n",
       "    </tr>\n",
       "    <tr>\n",
       "      <th>99</th>\n",
       "      <td>62.1120</td>\n",
       "      <td>123558.09530</td>\n",
       "      <td>25.0</td>\n",
       "      <td>21.7295</td>\n",
       "      <td>32.752</td>\n",
       "      <td>38.9385</td>\n",
       "      <td>42.1720</td>\n",
       "      <td>53.686</td>\n",
       "      <td>68.5410</td>\n",
       "      <td>92.8345</td>\n",
       "      <td>...</td>\n",
       "      <td>265550.5591</td>\n",
       "      <td>16.5</td>\n",
       "      <td>11.0</td>\n",
       "      <td>119.5</td>\n",
       "      <td>25.0</td>\n",
       "      <td>28.5</td>\n",
       "      <td>33.5</td>\n",
       "      <td>40.5</td>\n",
       "      <td>43.0</td>\n",
       "      <td>49.5</td>\n",
       "    </tr>\n",
       "    <tr>\n",
       "      <th>100</th>\n",
       "      <td>37.8406</td>\n",
       "      <td>191114.04430</td>\n",
       "      <td>49.1</td>\n",
       "      <td>21.7295</td>\n",
       "      <td>32.752</td>\n",
       "      <td>38.9385</td>\n",
       "      <td>42.1720</td>\n",
       "      <td>53.686</td>\n",
       "      <td>68.5410</td>\n",
       "      <td>92.8345</td>\n",
       "      <td>...</td>\n",
       "      <td>265550.5591</td>\n",
       "      <td>16.5</td>\n",
       "      <td>11.0</td>\n",
       "      <td>119.5</td>\n",
       "      <td>25.0</td>\n",
       "      <td>28.5</td>\n",
       "      <td>33.5</td>\n",
       "      <td>40.5</td>\n",
       "      <td>43.0</td>\n",
       "      <td>49.5</td>\n",
       "    </tr>\n",
       "    <tr>\n",
       "      <th>...</th>\n",
       "      <td>...</td>\n",
       "      <td>...</td>\n",
       "      <td>...</td>\n",
       "      <td>...</td>\n",
       "      <td>...</td>\n",
       "      <td>...</td>\n",
       "      <td>...</td>\n",
       "      <td>...</td>\n",
       "      <td>...</td>\n",
       "      <td>...</td>\n",
       "      <td>...</td>\n",
       "      <td>...</td>\n",
       "      <td>...</td>\n",
       "      <td>...</td>\n",
       "      <td>...</td>\n",
       "      <td>...</td>\n",
       "      <td>...</td>\n",
       "      <td>...</td>\n",
       "      <td>...</td>\n",
       "      <td>...</td>\n",
       "      <td>...</td>\n",
       "    </tr>\n",
       "    <tr>\n",
       "      <th>235</th>\n",
       "      <td>31.9908</td>\n",
       "      <td>237278.08810</td>\n",
       "      <td>91.5</td>\n",
       "      <td>7.0645</td>\n",
       "      <td>13.926</td>\n",
       "      <td>18.4940</td>\n",
       "      <td>22.9775</td>\n",
       "      <td>26.311</td>\n",
       "      <td>29.5305</td>\n",
       "      <td>32.0250</td>\n",
       "      <td>...</td>\n",
       "      <td>871519.5136</td>\n",
       "      <td>116.5</td>\n",
       "      <td>133.5</td>\n",
       "      <td>150.0</td>\n",
       "      <td>99.5</td>\n",
       "      <td>241.0</td>\n",
       "      <td>209.5</td>\n",
       "      <td>58.0</td>\n",
       "      <td>65.0</td>\n",
       "      <td>80.5</td>\n",
       "    </tr>\n",
       "    <tr>\n",
       "      <th>236</th>\n",
       "      <td>26.4737</td>\n",
       "      <td>411042.73130</td>\n",
       "      <td>182.6</td>\n",
       "      <td>7.0645</td>\n",
       "      <td>13.926</td>\n",
       "      <td>18.4940</td>\n",
       "      <td>22.9775</td>\n",
       "      <td>26.311</td>\n",
       "      <td>29.5305</td>\n",
       "      <td>32.0250</td>\n",
       "      <td>...</td>\n",
       "      <td>871519.5136</td>\n",
       "      <td>116.5</td>\n",
       "      <td>133.5</td>\n",
       "      <td>150.0</td>\n",
       "      <td>99.5</td>\n",
       "      <td>241.0</td>\n",
       "      <td>209.5</td>\n",
       "      <td>58.0</td>\n",
       "      <td>65.0</td>\n",
       "      <td>80.5</td>\n",
       "    </tr>\n",
       "    <tr>\n",
       "      <th>237</th>\n",
       "      <td>20.6846</td>\n",
       "      <td>438100.09440</td>\n",
       "      <td>113.6</td>\n",
       "      <td>7.0645</td>\n",
       "      <td>13.926</td>\n",
       "      <td>18.4940</td>\n",
       "      <td>22.9775</td>\n",
       "      <td>26.311</td>\n",
       "      <td>29.5305</td>\n",
       "      <td>32.0250</td>\n",
       "      <td>...</td>\n",
       "      <td>871519.5136</td>\n",
       "      <td>116.5</td>\n",
       "      <td>133.5</td>\n",
       "      <td>150.0</td>\n",
       "      <td>99.5</td>\n",
       "      <td>241.0</td>\n",
       "      <td>209.5</td>\n",
       "      <td>58.0</td>\n",
       "      <td>65.0</td>\n",
       "      <td>80.5</td>\n",
       "    </tr>\n",
       "    <tr>\n",
       "      <th>238</th>\n",
       "      <td>26.1659</td>\n",
       "      <td>346450.90730</td>\n",
       "      <td>115.5</td>\n",
       "      <td>7.0645</td>\n",
       "      <td>13.926</td>\n",
       "      <td>18.4940</td>\n",
       "      <td>22.9775</td>\n",
       "      <td>26.311</td>\n",
       "      <td>29.5305</td>\n",
       "      <td>32.0250</td>\n",
       "      <td>...</td>\n",
       "      <td>871519.5136</td>\n",
       "      <td>116.5</td>\n",
       "      <td>133.5</td>\n",
       "      <td>150.0</td>\n",
       "      <td>99.5</td>\n",
       "      <td>241.0</td>\n",
       "      <td>209.5</td>\n",
       "      <td>58.0</td>\n",
       "      <td>65.0</td>\n",
       "      <td>80.5</td>\n",
       "    </tr>\n",
       "    <tr>\n",
       "      <th>239</th>\n",
       "      <td>32.2754</td>\n",
       "      <td>351947.02990</td>\n",
       "      <td>193.7</td>\n",
       "      <td>7.0645</td>\n",
       "      <td>13.926</td>\n",
       "      <td>18.4940</td>\n",
       "      <td>22.9775</td>\n",
       "      <td>26.311</td>\n",
       "      <td>29.5305</td>\n",
       "      <td>32.0250</td>\n",
       "      <td>...</td>\n",
       "      <td>871519.5136</td>\n",
       "      <td>116.5</td>\n",
       "      <td>133.5</td>\n",
       "      <td>150.0</td>\n",
       "      <td>99.5</td>\n",
       "      <td>241.0</td>\n",
       "      <td>209.5</td>\n",
       "      <td>58.0</td>\n",
       "      <td>65.0</td>\n",
       "      <td>80.5</td>\n",
       "    </tr>\n",
       "  </tbody>\n",
       "</table>\n",
       "<p>96 rows × 30 columns</p>\n",
       "</div>"
      ],
      "text/plain": [
       "      rtt_qos        tp_qos  p_qos  10P_RTT  20P_RTT  30P_RTT  40P_RTT  \\\n",
       "96    72.9915  423258.19810   24.0  21.7295   32.752  38.9385  42.1720   \n",
       "97    94.4464   69734.41816   28.2  21.7295   32.752  38.9385  42.1720   \n",
       "98   101.7731   68586.85469   41.2  21.7295   32.752  38.9385  42.1720   \n",
       "99    62.1120  123558.09530   25.0  21.7295   32.752  38.9385  42.1720   \n",
       "100   37.8406  191114.04430   49.1  21.7295   32.752  38.9385  42.1720   \n",
       "..        ...           ...    ...      ...      ...      ...      ...   \n",
       "235   31.9908  237278.08810   91.5   7.0645   13.926  18.4940  22.9775   \n",
       "236   26.4737  411042.73130  182.6   7.0645   13.926  18.4940  22.9775   \n",
       "237   20.6846  438100.09440  113.6   7.0645   13.926  18.4940  22.9775   \n",
       "238   26.1659  346450.90730  115.5   7.0645   13.926  18.4940  22.9775   \n",
       "239   32.2754  351947.02990  193.7   7.0645   13.926  18.4940  22.9775   \n",
       "\n",
       "     50P_RTT  60P_RTT  70P_RTT  ...       90P_TP  10P_PK  20P_PK  30P_PK  \\\n",
       "96    53.686  68.5410  92.8345  ...  265550.5591    16.5    11.0   119.5   \n",
       "97    53.686  68.5410  92.8345  ...  265550.5591    16.5    11.0   119.5   \n",
       "98    53.686  68.5410  92.8345  ...  265550.5591    16.5    11.0   119.5   \n",
       "99    53.686  68.5410  92.8345  ...  265550.5591    16.5    11.0   119.5   \n",
       "100   53.686  68.5410  92.8345  ...  265550.5591    16.5    11.0   119.5   \n",
       "..       ...      ...      ...  ...          ...     ...     ...     ...   \n",
       "235   26.311  29.5305  32.0250  ...  871519.5136   116.5   133.5   150.0   \n",
       "236   26.311  29.5305  32.0250  ...  871519.5136   116.5   133.5   150.0   \n",
       "237   26.311  29.5305  32.0250  ...  871519.5136   116.5   133.5   150.0   \n",
       "238   26.311  29.5305  32.0250  ...  871519.5136   116.5   133.5   150.0   \n",
       "239   26.311  29.5305  32.0250  ...  871519.5136   116.5   133.5   150.0   \n",
       "\n",
       "     40P_PK  50P_PK  60P_PK  70P_PK  80P_PK  90P_PK  \n",
       "96     25.0    28.5    33.5    40.5    43.0    49.5  \n",
       "97     25.0    28.5    33.5    40.5    43.0    49.5  \n",
       "98     25.0    28.5    33.5    40.5    43.0    49.5  \n",
       "99     25.0    28.5    33.5    40.5    43.0    49.5  \n",
       "100    25.0    28.5    33.5    40.5    43.0    49.5  \n",
       "..      ...     ...     ...     ...     ...     ...  \n",
       "235    99.5   241.0   209.5    58.0    65.0    80.5  \n",
       "236    99.5   241.0   209.5    58.0    65.0    80.5  \n",
       "237    99.5   241.0   209.5    58.0    65.0    80.5  \n",
       "238    99.5   241.0   209.5    58.0    65.0    80.5  \n",
       "239    99.5   241.0   209.5    58.0    65.0    80.5  \n",
       "\n",
       "[96 rows x 30 columns]"
      ]
     },
     "execution_count": 143,
     "metadata": {},
     "output_type": "execute_result"
    }
   ],
   "source": [
    "X"
   ]
  },
  {
   "cell_type": "code",
   "execution_count": 144,
   "metadata": {},
   "outputs": [],
   "source": [
    "y = df.iloc[:, 36]"
   ]
  },
  {
   "cell_type": "code",
   "execution_count": 145,
   "metadata": {},
   "outputs": [
    {
     "data": {
      "text/plain": [
       "96     0.0\n",
       "97     0.0\n",
       "98     0.0\n",
       "99     0.0\n",
       "100    0.0\n",
       "      ... \n",
       "235    1.0\n",
       "236    1.0\n",
       "237    1.0\n",
       "238    1.0\n",
       "239    1.0\n",
       "Name: target, Length: 96, dtype: float64"
      ]
     },
     "execution_count": 145,
     "metadata": {},
     "output_type": "execute_result"
    }
   ],
   "source": [
    "y"
   ]
  },
  {
   "cell_type": "code",
   "execution_count": 146,
   "metadata": {},
   "outputs": [],
   "source": [
    "sm = SMOTE()\n",
    "X, y = sm.fit_sample(X, y)"
   ]
  },
  {
   "cell_type": "code",
   "execution_count": 147,
   "metadata": {},
   "outputs": [],
   "source": [
    "X_train, X_test, y_train, y_test = train_test_split(X, y, test_size=0.2, random_state=101)"
   ]
  },
  {
   "cell_type": "code",
   "execution_count": 148,
   "metadata": {},
   "outputs": [
    {
     "data": {
      "text/plain": [
       "(76, 30)"
      ]
     },
     "execution_count": 148,
     "metadata": {},
     "output_type": "execute_result"
    }
   ],
   "source": [
    "X_train.shape"
   ]
  },
  {
   "cell_type": "raw",
   "metadata": {},
   "source": [
    "data_final_vars=df.columns.values.tolist()\n",
    "y=['y']\n",
    "X=[i for i in data_final_vars if i not in y]\n",
    "from sklearn.feature_selection import RFE\n",
    "from sklearn.linear_model import LogisticRegression\n",
    "logreg = LogisticRegression()\n",
    "rfe = RFE(logreg, 20)\n",
    "rfe = rfe.fit(X_train, y_train.values.ravel())\n",
    "print(rfe.support_)\n",
    "print(rfe.ranking_)"
   ]
  },
  {
   "cell_type": "code",
   "execution_count": null,
   "metadata": {},
   "outputs": [],
   "source": []
  },
  {
   "cell_type": "code",
   "execution_count": 149,
   "metadata": {},
   "outputs": [
    {
     "data": {
      "text/plain": [
       "LogisticRegression(max_iter=4000)"
      ]
     },
     "execution_count": 149,
     "metadata": {},
     "output_type": "execute_result"
    }
   ],
   "source": [
    "from sklearn.linear_model import LogisticRegression\n",
    "from sklearn import metrics\n",
    "X_train, X_test, y_train, y_test = train_test_split(X, y, test_size=0.4, random_state=0)\n",
    "logreg = LogisticRegression(max_iter=4000)\n",
    "logreg.fit(X_train, y_train)"
   ]
  },
  {
   "cell_type": "code",
   "execution_count": 150,
   "metadata": {},
   "outputs": [
    {
     "data": {
      "text/plain": [
       "LogisticRegression(max_iter=4000)"
      ]
     },
     "execution_count": 150,
     "metadata": {},
     "output_type": "execute_result"
    }
   ],
   "source": [
    "logreg"
   ]
  },
  {
   "cell_type": "code",
   "execution_count": 151,
   "metadata": {},
   "outputs": [
    {
     "name": "stdout",
     "output_type": "stream",
     "text": [
      "Accuracy of logistic regression classifier on test set: 1.00\n"
     ]
    }
   ],
   "source": [
    "y_pred = logreg.predict(X_test)\n",
    "print('Accuracy of logistic regression classifier on test set: {:.2f}'.format(logreg.score(X_test, y_test)))"
   ]
  },
  {
   "cell_type": "code",
   "execution_count": 152,
   "metadata": {},
   "outputs": [
    {
     "name": "stdout",
     "output_type": "stream",
     "text": [
      "[[16  0]\n",
      " [ 0 23]]\n"
     ]
    }
   ],
   "source": [
    "from sklearn.metrics import confusion_matrix\n",
    "confusion_matrix = confusion_matrix(y_test, y_pred)\n",
    "print(confusion_matrix)"
   ]
  },
  {
   "cell_type": "code",
   "execution_count": 153,
   "metadata": {},
   "outputs": [
    {
     "name": "stdout",
     "output_type": "stream",
     "text": [
      "              precision    recall  f1-score   support\n",
      "\n",
      "         0.0       1.00      1.00      1.00        16\n",
      "         1.0       1.00      1.00      1.00        23\n",
      "\n",
      "    accuracy                           1.00        39\n",
      "   macro avg       1.00      1.00      1.00        39\n",
      "weighted avg       1.00      1.00      1.00        39\n",
      "\n"
     ]
    }
   ],
   "source": [
    "from sklearn.metrics import classification_report\n",
    "print(classification_report(y_test, y_pred))"
   ]
  },
  {
   "cell_type": "code",
   "execution_count": null,
   "metadata": {},
   "outputs": [],
   "source": []
  },
  {
   "cell_type": "code",
   "execution_count": null,
   "metadata": {},
   "outputs": [],
   "source": []
  },
  {
   "cell_type": "code",
   "execution_count": null,
   "metadata": {},
   "outputs": [],
   "source": []
  }
 ],
 "metadata": {
  "kernelspec": {
   "display_name": "Python 3",
   "language": "python",
   "name": "python3"
  },
  "language_info": {
   "codemirror_mode": {
    "name": "ipython",
    "version": 3
   },
   "file_extension": ".py",
   "mimetype": "text/x-python",
   "name": "python",
   "nbconvert_exporter": "python",
   "pygments_lexer": "ipython3",
   "version": "3.8.3"
  }
 },
 "nbformat": 4,
 "nbformat_minor": 4
}
